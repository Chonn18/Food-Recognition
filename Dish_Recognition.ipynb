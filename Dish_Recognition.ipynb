{
  "nbformat": 4,
  "nbformat_minor": 0,
  "metadata": {
    "colab": {
      "provenance": [],
      "gpuType": "T4"
    },
    "kernelspec": {
      "name": "python3",
      "display_name": "Python 3"
    },
    "language_info": {
      "name": "python"
    },
    "accelerator": "GPU"
  },
  "cells": [
    {
      "cell_type": "markdown",
      "source": [
        "# Dish Recognition using transfer learning\n",
        "\n",
        "1. Model: EffecientNet - B0\n",
        "2. weight: ImageNet\n",
        "\n",
        "*Data were saved by numpy in driver folder.*"
      ],
      "metadata": {
        "id": "LkvRHsTxhQSR"
      }
    },
    {
      "cell_type": "code",
      "execution_count": 1,
      "metadata": {
        "id": "4pM_s1RGgTQo"
      },
      "outputs": [],
      "source": [
        "#import\n",
        "import os\n",
        "import glob\n",
        "import numpy as np\n",
        "import tensorflow as tf\n",
        "from keras.models import Sequential\n",
        "import matplotlib.pyplot as plt\n",
        "from sklearn.model_selection import train_test_split\n",
        "from keras.layers import Flatten, Dense, Input, GlobalAveragePooling2D, BatchNormalization, Dropout\n",
        "from sklearn.metrics import accuracy_score"
      ]
    },
    {
      "cell_type": "code",
      "source": [
        "#Define path mount to driver data\n",
        "Train_data_path = '/content/drive/MyDrive/DATASET/output/train'\n",
        "Test_data_path = '/content/drive/MyDrive/DATASET/output/test'\n",
        "Val_data_path = '/content/drive/MyDrive/DATASET/output/val'"
      ],
      "metadata": {
        "id": "ttBK8Vb4jIBG"
      },
      "execution_count": 2,
      "outputs": []
    },
    {
      "cell_type": "code",
      "source": [
        "LABELS = ['Banh chung','Banh mi', 'Banh tet', 'Banh trang', 'Banh xeo', 'Bun', 'Com tam', 'Goi cuon', 'Pho', 'Bun dau mam tom', 'Nem chua', 'Chao long']"
      ],
      "metadata": {
        "id": "SleqEUTojWz0"
      },
      "execution_count": 3,
      "outputs": []
    },
    {
      "cell_type": "code",
      "source": [
        "def load(path):\n",
        "  feature = []\n",
        "  target = []\n",
        "  for label in LABELS:\n",
        "    one_hots = tf.one_hot(LABELS.index(label), len(LABELS)).numpy()\n",
        "\n",
        "    base_path = os.path.join(path, label, 'extract_Effecient_NoAug.npy')\n",
        "    feature_load = np.load(base_path)\n",
        "    feature.append(feature_load)\n",
        "\n",
        "    one_hots = np.tile(one_hots, (len(feature_load), 1))\n",
        "    target.append(one_hots)\n",
        "\n",
        "  feature = np.concatenate(feature, axis= 0)\n",
        "  target = np.concatenate(target, axis= 0)\n",
        "  return feature, target"
      ],
      "metadata": {
        "id": "f3vBp673megJ"
      },
      "execution_count": 6,
      "outputs": []
    },
    {
      "cell_type": "code",
      "source": [
        "X_train, y_train = load(Train_data_path)"
      ],
      "metadata": {
        "id": "mVFzdF1RnH6y"
      },
      "execution_count": 5,
      "outputs": []
    },
    {
      "cell_type": "code",
      "source": [
        "X_val, y_val = load(Val_data_path)"
      ],
      "metadata": {
        "id": "C3jL5sot2V8_"
      },
      "execution_count": 7,
      "outputs": []
    },
    {
      "cell_type": "code",
      "source": [
        "X_train.shape"
      ],
      "metadata": {
        "colab": {
          "base_uri": "https://localhost:8080/"
        },
        "id": "LqBFlHpdCpk4",
        "outputId": "9b5e2c51-19c3-43eb-f275-46d3ebe7a34c"
      },
      "execution_count": 11,
      "outputs": [
        {
          "output_type": "execute_result",
          "data": {
            "text/plain": [
              "(16086, 7, 7, 1280)"
            ]
          },
          "metadata": {},
          "execution_count": 11
        }
      ]
    },
    {
      "cell_type": "code",
      "source": [
        "#drop featute\n",
        "X_train, _, y_train, _ = train_test_split(X_train, y_train, test_size=0.3, random_state=42)"
      ],
      "metadata": {
        "id": "YAmOt4ygAqf5"
      },
      "execution_count": 12,
      "outputs": []
    },
    {
      "cell_type": "code",
      "source": [
        "X_train.shape"
      ],
      "metadata": {
        "colab": {
          "base_uri": "https://localhost:8080/"
        },
        "id": "llR5_XR0Ct-T",
        "outputId": "8fe2e6f9-c546-46c0-ef7c-964d7c8e3937"
      },
      "execution_count": 13,
      "outputs": [
        {
          "output_type": "execute_result",
          "data": {
            "text/plain": [
              "(11260, 7, 7, 1280)"
            ]
          },
          "metadata": {},
          "execution_count": 13
        }
      ]
    },
    {
      "cell_type": "markdown",
      "source": [
        "**Create Model**"
      ],
      "metadata": {
        "id": "_bYWz4CY20ZV"
      }
    },
    {
      "cell_type": "code",
      "source": [
        "inputs = Input(shape= (7, 7, 1280))\n",
        "x = GlobalAveragePooling2D(name=\"avg_pool\")(inputs)\n",
        "x = BatchNormalization()(x)\n",
        "\n",
        "top_dropout_rate = 0.2\n",
        "x = Dropout(top_dropout_rate, name=\"top_dropout\")(x)\n",
        "outputs = Dense(12, activation=\"softmax\", name=\"pred\")(x)\n",
        "\n",
        "# Compile\n",
        "model = tf.keras.Model(inputs, outputs, name=\"Recognition\")\n",
        "optimizer = tf.keras.optimizers.Adam(learning_rate=1e-4)\n",
        "model.compile(optimizer=optimizer, loss=\"categorical_crossentropy\", metrics=[\"accuracy\"])"
      ],
      "metadata": {
        "id": "ZEr-d1cy24Cj"
      },
      "execution_count": 14,
      "outputs": []
    },
    {
      "cell_type": "code",
      "source": [
        "model.summary()"
      ],
      "metadata": {
        "colab": {
          "base_uri": "https://localhost:8080/"
        },
        "id": "sBugamAf5iKE",
        "outputId": "3e0bfe05-5e10-4e1d-e343-6a184cf3c429"
      },
      "execution_count": 15,
      "outputs": [
        {
          "output_type": "stream",
          "name": "stdout",
          "text": [
            "Model: \"Recognition\"\n",
            "_________________________________________________________________\n",
            " Layer (type)                Output Shape              Param #   \n",
            "=================================================================\n",
            " input_1 (InputLayer)        [(None, 7, 7, 1280)]      0         \n",
            "                                                                 \n",
            " avg_pool (GlobalAveragePoo  (None, 1280)              0         \n",
            " ling2D)                                                         \n",
            "                                                                 \n",
            " batch_normalization (Batch  (None, 1280)              5120      \n",
            " Normalization)                                                  \n",
            "                                                                 \n",
            " top_dropout (Dropout)       (None, 1280)              0         \n",
            "                                                                 \n",
            " pred (Dense)                (None, 12)                15372     \n",
            "                                                                 \n",
            "=================================================================\n",
            "Total params: 20492 (80.05 KB)\n",
            "Trainable params: 17932 (70.05 KB)\n",
            "Non-trainable params: 2560 (10.00 KB)\n",
            "_________________________________________________________________\n"
          ]
        }
      ]
    },
    {
      "cell_type": "markdown",
      "source": [
        "**Training**"
      ],
      "metadata": {
        "id": "NhSuXTMq5104"
      }
    },
    {
      "cell_type": "code",
      "source": [
        "epochs = 30\n",
        "batch_size = 32\n",
        "hist = model.fit(X_train, y_train, epochs= epochs, batch_size= batch_size, shuffle= True, validation_data=(X_val, y_val))"
      ],
      "metadata": {
        "id": "A1FQ2CwA50_F",
        "colab": {
          "base_uri": "https://localhost:8080/"
        },
        "outputId": "fbdace6e-e5b0-482c-e33d-f44c8c893afa"
      },
      "execution_count": 16,
      "outputs": [
        {
          "output_type": "stream",
          "name": "stdout",
          "text": [
            "Epoch 1/30\n",
            "352/352 [==============================] - 11s 11ms/step - loss: 1.9648 - accuracy: 0.4088 - val_loss: 1.0055 - val_accuracy: 0.6999\n",
            "Epoch 2/30\n",
            "352/352 [==============================] - 3s 7ms/step - loss: 0.9417 - accuracy: 0.6994 - val_loss: 0.6638 - val_accuracy: 0.8015\n",
            "Epoch 3/30\n",
            "352/352 [==============================] - 3s 7ms/step - loss: 0.7061 - accuracy: 0.7717 - val_loss: 0.5462 - val_accuracy: 0.8354\n",
            "Epoch 4/30\n",
            "352/352 [==============================] - 3s 7ms/step - loss: 0.5828 - accuracy: 0.8107 - val_loss: 0.4898 - val_accuracy: 0.8519\n",
            "Epoch 5/30\n",
            "352/352 [==============================] - 3s 8ms/step - loss: 0.5114 - accuracy: 0.8358 - val_loss: 0.4527 - val_accuracy: 0.8616\n",
            "Epoch 6/30\n",
            "352/352 [==============================] - 3s 9ms/step - loss: 0.4648 - accuracy: 0.8506 - val_loss: 0.4276 - val_accuracy: 0.8703\n",
            "Epoch 7/30\n",
            "352/352 [==============================] - 3s 9ms/step - loss: 0.4233 - accuracy: 0.8639 - val_loss: 0.4120 - val_accuracy: 0.8790\n",
            "Epoch 8/30\n",
            "352/352 [==============================] - 3s 7ms/step - loss: 0.3934 - accuracy: 0.8717 - val_loss: 0.3989 - val_accuracy: 0.8800\n",
            "Epoch 9/30\n",
            "352/352 [==============================] - 3s 7ms/step - loss: 0.3647 - accuracy: 0.8814 - val_loss: 0.3912 - val_accuracy: 0.8877\n",
            "Epoch 10/30\n",
            "352/352 [==============================] - 3s 7ms/step - loss: 0.3446 - accuracy: 0.8845 - val_loss: 0.3806 - val_accuracy: 0.8906\n",
            "Epoch 11/30\n",
            "352/352 [==============================] - 3s 9ms/step - loss: 0.3321 - accuracy: 0.8925 - val_loss: 0.3751 - val_accuracy: 0.8916\n",
            "Epoch 12/30\n",
            "352/352 [==============================] - 3s 9ms/step - loss: 0.3206 - accuracy: 0.8948 - val_loss: 0.3702 - val_accuracy: 0.8925\n",
            "Epoch 13/30\n",
            "352/352 [==============================] - 3s 8ms/step - loss: 0.2996 - accuracy: 0.8998 - val_loss: 0.3665 - val_accuracy: 0.8896\n",
            "Epoch 14/30\n",
            "352/352 [==============================] - 3s 7ms/step - loss: 0.2848 - accuracy: 0.9068 - val_loss: 0.3636 - val_accuracy: 0.8935\n",
            "Epoch 15/30\n",
            "352/352 [==============================] - 3s 7ms/step - loss: 0.2726 - accuracy: 0.9093 - val_loss: 0.3627 - val_accuracy: 0.8974\n",
            "Epoch 16/30\n",
            "352/352 [==============================] - 3s 7ms/step - loss: 0.2619 - accuracy: 0.9134 - val_loss: 0.3575 - val_accuracy: 0.8974\n",
            "Epoch 17/30\n",
            "352/352 [==============================] - 5s 14ms/step - loss: 0.2531 - accuracy: 0.9180 - val_loss: 0.3572 - val_accuracy: 0.8964\n",
            "Epoch 18/30\n",
            "352/352 [==============================] - 3s 8ms/step - loss: 0.2514 - accuracy: 0.9174 - val_loss: 0.3526 - val_accuracy: 0.9013\n",
            "Epoch 19/30\n",
            "352/352 [==============================] - 3s 7ms/step - loss: 0.2318 - accuracy: 0.9262 - val_loss: 0.3516 - val_accuracy: 0.8993\n",
            "Epoch 20/30\n",
            "352/352 [==============================] - 3s 8ms/step - loss: 0.2299 - accuracy: 0.9236 - val_loss: 0.3502 - val_accuracy: 0.8993\n",
            "Epoch 21/30\n",
            "352/352 [==============================] - 3s 9ms/step - loss: 0.2182 - accuracy: 0.9278 - val_loss: 0.3490 - val_accuracy: 0.9032\n",
            "Epoch 22/30\n",
            "352/352 [==============================] - 3s 9ms/step - loss: 0.2131 - accuracy: 0.9303 - val_loss: 0.3500 - val_accuracy: 0.9022\n",
            "Epoch 23/30\n",
            "352/352 [==============================] - 3s 10ms/step - loss: 0.2039 - accuracy: 0.9340 - val_loss: 0.3495 - val_accuracy: 0.9003\n",
            "Epoch 24/30\n",
            "352/352 [==============================] - 3s 8ms/step - loss: 0.2005 - accuracy: 0.9365 - val_loss: 0.3496 - val_accuracy: 0.9003\n",
            "Epoch 25/30\n",
            "352/352 [==============================] - 3s 7ms/step - loss: 0.1988 - accuracy: 0.9366 - val_loss: 0.3477 - val_accuracy: 0.8984\n",
            "Epoch 26/30\n",
            "352/352 [==============================] - 3s 7ms/step - loss: 0.1968 - accuracy: 0.9365 - val_loss: 0.3472 - val_accuracy: 0.9013\n",
            "Epoch 27/30\n",
            "352/352 [==============================] - 3s 8ms/step - loss: 0.1841 - accuracy: 0.9400 - val_loss: 0.3493 - val_accuracy: 0.9032\n",
            "Epoch 28/30\n",
            "352/352 [==============================] - 3s 10ms/step - loss: 0.1853 - accuracy: 0.9393 - val_loss: 0.3479 - val_accuracy: 0.9013\n",
            "Epoch 29/30\n",
            "352/352 [==============================] - 3s 9ms/step - loss: 0.1810 - accuracy: 0.9425 - val_loss: 0.3502 - val_accuracy: 0.9032\n",
            "Epoch 30/30\n",
            "352/352 [==============================] - 3s 8ms/step - loss: 0.1744 - accuracy: 0.9428 - val_loss: 0.3517 - val_accuracy: 0.9042\n"
          ]
        }
      ]
    },
    {
      "cell_type": "code",
      "source": [
        "def plot_hist(hist):\n",
        "    plt.plot(hist.history[\"accuracy\"])\n",
        "    plt.plot(hist.history[\"val_accuracy\"])\n",
        "    plt.title(\"model accuracy\")\n",
        "    plt.ylabel(\"accuracy\")\n",
        "    plt.xlabel(\"epoch\")\n",
        "    plt.legend([\"train\", \"validation\"], loc=\"upper left\")\n",
        "    plt.show()"
      ],
      "metadata": {
        "id": "oMo1EJrgcOR4"
      },
      "execution_count": 17,
      "outputs": []
    },
    {
      "cell_type": "code",
      "source": [
        "plot_hist(hist)"
      ],
      "metadata": {
        "colab": {
          "base_uri": "https://localhost:8080/",
          "height": 472
        },
        "id": "EEfaHBAfcQFN",
        "outputId": "5e42cc79-5d18-4d7a-bc16-d5fc8df4b1a5"
      },
      "execution_count": 18,
      "outputs": [
        {
          "output_type": "display_data",
          "data": {
            "text/plain": [
              "<Figure size 640x480 with 1 Axes>"
            ],
            "image/png": "[encoded data removed]"
          },
          "metadata": {}
        }
      ]
    },
    {
      "cell_type": "markdown",
      "source": [
        "**Save model**"
      ],
      "metadata": {
        "id": "Yopeqr8Ean1r"
      }
    },
    {
      "cell_type": "code",
      "source": [
        "save_model_path = '/content/drive/MyDrive/DATASET/Dish_Recognition_12.h5'\n",
        "model.save(save_model_path)"
      ],
      "metadata": {
        "id": "RZclI61aar7x",
        "colab": {
          "base_uri": "https://localhost:8080/"
        },
        "outputId": "c9c052a0-fb7b-404d-9380-f271d543fddd"
      },
      "execution_count": 19,
      "outputs": [
        {
          "output_type": "stream",
          "name": "stderr",
          "text": [
            "/usr/local/lib/python3.10/dist-packages/keras/src/engine/training.py:3079: UserWarning: You are saving your model as an HDF5 file via `model.save()`. This file format is considered legacy. We recommend using instead the native Keras format, e.g. `model.save('my_model.keras')`.\n",
            "  saving_api.save_model(\n"
          ]
        }
      ]
    },
    {
      "cell_type": "markdown",
      "source": [
        "**Test model**"
      ],
      "metadata": {
        "id": "rt4pZ9Nnc44z"
      }
    },
    {
      "cell_type": "code",
      "source": [
        "X_test, y_test = load(Test_data_path)"
      ],
      "metadata": {
        "id": "_ZnDMBZ-c4j7"
      },
      "execution_count": 20,
      "outputs": []
    },
    {
      "cell_type": "code",
      "source": [
        "y_pred = model.predict(X_test)"
      ],
      "metadata": {
        "colab": {
          "base_uri": "https://localhost:8080/"
        },
        "id": "TMbZTPZ0dJ2M",
        "outputId": "49abe07b-aedc-4bc7-f336-182f86a2c993"
      },
      "execution_count": 21,
      "outputs": [
        {
          "output_type": "stream",
          "name": "stdout",
          "text": [
            "41/41 [==============================] - 0s 6ms/step\n"
          ]
        }
      ]
    },
    {
      "cell_type": "code",
      "source": [
        "#one hot output\n",
        "y_pred = np.eye(np.array(y_pred).shape[1])[np.argmax(y_pred, axis=1)]"
      ],
      "metadata": {
        "id": "hJOyClvMhkAz"
      },
      "execution_count": 22,
      "outputs": []
    },
    {
      "cell_type": "code",
      "source": [
        "accuracy = accuracy_score(y_test, y_pred)\n",
        "accuracy"
      ],
      "metadata": {
        "id": "r93CHKhAdSam",
        "colab": {
          "base_uri": "https://localhost:8080/"
        },
        "outputId": "f7bbc5c7-9769-456d-d161-ea4acb09c005"
      },
      "execution_count": 23,
      "outputs": [
        {
          "output_type": "execute_result",
          "data": {
            "text/plain": [
              "0.9071373752877974"
            ]
          },
          "metadata": {},
          "execution_count": 23
        }
      ]
    },
    {
      "cell_type": "markdown",
      "source": [
        "# Test"
      ],
      "metadata": {
        "id": "EERdU-S-jZ9a"
      }
    },
    {
      "cell_type": "code",
      "source": [
        "#load npy file\n",
        "feature = []\n",
        "for label in LABELS:\n",
        "  path = os.path.join(Val_data_path, label, 'extract_Effecient.npy')\n",
        "  feature.append(np.load(path))"
      ],
      "metadata": {
        "id": "aIl5Ndeci-eF"
      },
      "execution_count": null,
      "outputs": []
    },
    {
      "cell_type": "code",
      "source": [
        "feature = np.concatenate(feature, axis=0)"
      ],
      "metadata": {
        "id": "R0E1gSMDl7k2"
      },
      "execution_count": null,
      "outputs": []
    },
    {
      "cell_type": "code",
      "source": [
        "import numpy as np\n",
        "\n",
        "# Tạo một array mẫu\n",
        "arr = np.array([1, 5, 6, 8])\n",
        "\n",
        "# Sử dụng np.tile() để tạo array mới\n",
        "new_arr = np.tile(arr, (10, 1))  # Lặp lại arr 10 lần theo chiều 0\n",
        "\n",
        "print(new_arr)\n",
        "print(new_arr.shape)"
      ],
      "metadata": {
        "colab": {
          "base_uri": "https://localhost:8080/"
        },
        "id": "SKPAJsfYmUaO",
        "outputId": "31248bdf-e400-4420-f99e-f233d89532ee"
      },
      "execution_count": null,
      "outputs": [
        {
          "output_type": "stream",
          "name": "stdout",
          "text": [
            "[[1 5 6 8]\n",
            " [1 5 6 8]\n",
            " [1 5 6 8]\n",
            " [1 5 6 8]\n",
            " [1 5 6 8]\n",
            " [1 5 6 8]\n",
            " [1 5 6 8]\n",
            " [1 5 6 8]\n",
            " [1 5 6 8]\n",
            " [1 5 6 8]]\n",
            "(10, 4)\n"
          ]
        }
      ]
    },
    {
      "cell_type": "code",
      "source": [
        "from keras.models import load_model\n",
        "new_model = load_model(save_model_path)"
      ],
      "metadata": {
        "id": "eIWpiDNBj5nQ"
      },
      "execution_count": null,
      "outputs": []
    },
    {
      "cell_type": "code",
      "source": [
        "new_pred = new_model.predict(X_test)"
      ],
      "metadata": {
        "colab": {
          "base_uri": "https://localhost:8080/"
        },
        "id": "6nrWjEHLkEkL",
        "outputId": "5d78e292-6fbc-4651-ead9-7d7bb4470887"
      },
      "execution_count": null,
      "outputs": [
        {
          "output_type": "stream",
          "name": "stdout",
          "text": [
            "25/25 [==============================] - 0s 9ms/step\n"
          ]
        }
      ]
    },
    {
      "cell_type": "code",
      "source": [
        "new_pred = np.eye(np.array(new_pred).shape[1])[np.argmax(new_pred, axis=1)]"
      ],
      "metadata": {
        "id": "gEOJRVtPkRWS"
      },
      "execution_count": null,
      "outputs": []
    },
    {
      "cell_type": "code",
      "source": [
        "accuracy_score(y_test, new_pred)"
      ],
      "metadata": {
        "colab": {
          "base_uri": "https://localhost:8080/"
        },
        "id": "-1HUEgIrkXmL",
        "outputId": "f7af21fe-137c-4f5e-e4e9-c7e70cdc916f"
      },
      "execution_count": null,
      "outputs": [
        {
          "output_type": "execute_result",
          "data": {
            "text/plain": [
              "0.89937106918239"
            ]
          },
          "metadata": {},
          "execution_count": 25
        }
      ]
    }
  ]
}